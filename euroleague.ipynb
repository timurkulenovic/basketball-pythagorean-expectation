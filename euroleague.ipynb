{
 "cells": [
  {
   "cell_type": "code",
   "execution_count": 87,
   "metadata": {
    "collapsed": true
   },
   "outputs": [],
   "source": [
    "import pandas as pd\n",
    "import numpy as np\n",
    "import matplotlib.pyplot as plt"
   ]
  },
  {
   "cell_type": "code",
   "execution_count": 75,
   "outputs": [],
   "source": [
    "games = pd.read_csv(\"data/euroleague_games.csv\")"
   ],
   "metadata": {
    "collapsed": false
   }
  },
  {
   "cell_type": "code",
   "execution_count": 77,
   "outputs": [],
   "source": [
    "games = games[[\"Season\", \"Part\", \"Round\", \"H_Team\", \"A_Team\", \"H_Score\", \"A_Score\"]]\n",
    "games = games[games[\"Part\"] == \"REGULAR SEASON\"]\n",
    "games[\"Round\"] = games.Round.str.extract('(\\d+)')[0].astype(int)\n",
    "games[\"H_Win\"] = np.where(games[\"H_Score\"] > games[\"A_Score\"], 1, 0)\n",
    "games[\"A_Win\"] = np.where(games[\"H_Score\"] < games[\"A_Score\"], 1, 0)\n",
    "games[\"count\"] = 1"
   ],
   "metadata": {
    "collapsed": false
   }
  },
  {
   "cell_type": "code",
   "execution_count": 163,
   "outputs": [],
   "source": [
    "def output_table(input_games, season, round_=None):\n",
    "    games_season = input_games[input_games[\"Season\"] == season]\n",
    "    max_round = round_\n",
    "    if not max_round:\n",
    "        max_round = max(games_season[\"Round\"])\n",
    "    games_season = games_season[games_season[\"Round\"] <= max_round]\n",
    "\n",
    "    table_home = games_season.groupby(\"H_Team\").sum()[[\"H_Score\", \"A_Score\", \"H_Win\", \"count\"]].reset_index()\n",
    "    table_home = table_home.rename(columns={\"H_Team\": \"Team\", \"H_Score\": \"Score\", \"A_Score\": \"Opponent_Score\", \"H_Win\": \"Win\"})\n",
    "\n",
    "    table_away = games_season.groupby(\"A_Team\").sum()[[\"H_Score\", \"A_Score\", \"A_Win\", \"count\"]].reset_index()\n",
    "    table_away = table_away.rename(columns={\"A_Team\": \"Team\", \"A_Score\": \"Score\", \"H_Score\": \"Opponent_Score\", \"A_Win\": \"Win\"})\n",
    "\n",
    "    table = pd.concat([table_home, table_away]).groupby(['Team']).sum().sort_values(\"Win\", ascending=False).reset_index()\n",
    "\n",
    "    table[\"Season\"] = season\n",
    "    table[\"W_ratio\"] = table[\"Win\"] / table[\"count\"]\n",
    "    table[\"pyth_classic\"] = table[\"Score\"] ** 2 / (table[\"Score\"] ** 2 + table[\"Opponent_Score\"] ** 2)\n",
    "    table[\"pyth_el\"] = table[\"Score\"] ** 11.014 / (table[\"Score\"] ** 11.014 + table[\"Opponent_Score\"] ** 11.014)\n",
    "    return table"
   ],
   "metadata": {
    "collapsed": false
   }
  },
  {
   "cell_type": "code",
   "execution_count": 164,
   "outputs": [],
   "source": [
    "table_2016_2017 = output_table(games, season=\"2016/17\", round_=30)\n",
    "table_2017_2018 = output_table(games, season=\"2017/18\", round_=30)"
   ],
   "metadata": {
    "collapsed": false
   }
  },
  {
   "cell_type": "code",
   "execution_count": 168,
   "outputs": [
    {
     "data": {
      "text/plain": "(0.840221202391185, 0.07837736502873012)"
     },
     "execution_count": 168,
     "metadata": {},
     "output_type": "execute_result"
    },
    {
     "data": {
      "text/plain": "<Figure size 432x288 with 1 Axes>",
      "image/png": "[encoded data removed]"
     },
     "metadata": {
      "needs_background": "light"
     },
     "output_type": "display_data"
    }
   ],
   "source": [
    "table_concat = pd.concat([table_2016_2017, table_2017_2018])\n",
    "plt.scatter(table_2016_2017[\"W_ratio\"], table_2016_2017[\"pyth_el\"], label=\"2016/2017\")\n",
    "plt.scatter(table_2017_2018[\"W_ratio\"], table_2017_2018[\"pyth_el\"], label=\"2017/2018\")\n",
    "#obtain m (slope) and b(intercept) of linear regression line\n",
    "m, b  = np.polyfit(table_concat[\"W_ratio\"], table_concat[\"pyth_el\"], 1)\n",
    "\n",
    "#add linear regression line to scatterplot\n",
    "plt.plot(table_concat[\"W_ratio\"], m * table_concat[\"W_ratio\"] + b, color=\"green\")\n",
    "plt.legend()\n",
    "m, b"
   ],
   "metadata": {
    "collapsed": false
   }
  },
  {
   "cell_type": "code",
   "execution_count": 169,
   "outputs": [
    {
     "data": {
      "text/plain": "0.9176407378588708"
     },
     "execution_count": 169,
     "metadata": {},
     "output_type": "execute_result"
    }
   ],
   "source": [
    "table_concat[\"W_ratio\"].corr(table_concat[\"pyth_el\"])"
   ],
   "metadata": {
    "collapsed": false
   }
  },
  {
   "cell_type": "code",
   "execution_count": 170,
   "outputs": [
    {
     "data": {
      "text/plain": "                                 Team  Score  Opponent_Score  Win  count  \\\n0                         Real Madrid   2585            2353   23     30   \n1                         CSKA Moscow   2619            2387   22     30   \n2                  Olympiacos Piraeus   2338            2227   19     30   \n3     Panathinaikos Superfoods Athens   2326            2234   19     30   \n4                 Fenerbahce Istanbul   2286            2244   18     30   \n5               Anadolu Efes Istanbul   2521            2512   17     30   \n6            Baskonia Vitoria Gasteiz   2445            2376   17     30   \n7          Crvena Zvezda mts Belgrade   2209            2204   16     30   \n8          Darussafaka Dogus Istanbul   2373            2366   16     30   \n9                     Zalgiris Kaunas   2350            2391   14     30   \n10                 FC Barcelona Lassa   2141            2242   12     30   \n11      Galatasaray Odeabank Istanbul   2345            2475   11     30   \n12                      Brose Bamberg   2397            2430   10     30   \n13               Maccabi FOX Tel Aviv   2341            2509   10     30   \n14           EA7 Emporio Armani Milan   2422            2621    8     30   \n15                        Unics Kazan   2298            2425    8     30   \n0                         CSKA Moscow   2685            2389   24     30   \n1           Fenerbahce Dogus Istanbul   2421            2255   21     30   \n2                  Olympiacos Piraeus   2335            2302   19     30   \n3     Panathinaikos Superfoods Athens   2368            2325   19     30   \n4                         Real Madrid   2587            2395   19     30   \n5                     Zalgiris Kaunas   2446            2416   18     30   \n6   KIROLBET Baskonia Vitoria Gasteiz   2487            2373   16     30   \n7                Khimki Moscow Region   2338            2352   16     30   \n8                Maccabi FOX Tel Aviv   2440            2530   13     30   \n9                      Unicaja Malaga   2387            2467   13     30   \n10                    Valencia Basket   2360            2449   12     30   \n11                      Brose Bamberg   2309            2446   11     30   \n12         Crvena Zvezda mts Belgrade   2333            2515   11     30   \n13                 FC Barcelona Lassa   2456            2404   11     30   \n14   AX Armani Exchange Olimpia Milan   2450            2575   10     30   \n15              Anadolu Efes Istanbul   2321            2530    7     30   \n\n     Season   W_ratio  pyth_classic   pyth_el  \n0   2016/17  0.766667      0.546879  0.738018  \n1   2016/17  0.733333      0.546245  0.735285  \n2   2016/17  0.633333      0.524301  0.630818  \n3   2016/17  0.633333      0.520167  0.609327  \n4   2016/17  0.600000      0.509271  0.550883  \n5   2016/17  0.566667      0.501788  0.509846  \n6   2016/17  0.566667      0.514309  0.578177  \n7   2016/17  0.533333      0.501133  0.506239  \n8   2016/17  0.533333      0.501477  0.508134  \n9   2016/17  0.466667      0.491353  0.452518  \n10  2016/17  0.400000      0.476969  0.375734  \n11  2016/17  0.366667      0.473049  0.355658  \n12  2016/17  0.333333      0.493164  0.462422  \n13  2016/17  0.333333      0.465402  0.317922  \n14  2016/17  0.266667      0.460601  0.295319  \n15  2016/17  0.266667      0.473130  0.356069  \n0   2017/18  0.800000      0.558139  0.783554  \n1   2017/18  0.700000      0.535456  0.686183  \n2   2017/18  0.633333      0.507116  0.539112  \n3   2017/18  0.633333      0.509162  0.550289  \n4   2017/18  0.633333      0.538482  0.700431  \n5   2017/18  0.600000      0.506170  0.533928  \n6   2017/18  0.533333      0.523444  0.626399  \n7   2017/18  0.533333      0.497015  0.483567  \n8   2017/18  0.433333      0.481897  0.401567  \n9   2017/18  0.433333      0.483523  0.410214  \n10  2017/18  0.400000      0.481499  0.399459  \n11  2017/18  0.366667      0.471212  0.346414  \n12  2017/18  0.366667      0.462512  0.304206  \n13  2017/18  0.366667      0.510698  0.558654  \n14  2017/18  0.333333      0.475140  0.366312  \n15  2017/18  0.233333      0.456996  0.278957  ",
      "text/html": "<div>\n<style scoped>\n    .dataframe tbody tr th:only-of-type {\n        vertical-align: middle;\n    }\n\n    .dataframe tbody tr th {\n        vertical-align: top;\n    }\n\n    .dataframe thead th {\n        text-align: right;\n    }\n</style>\n<table border=\"1\" class=\"dataframe\">\n  <thead>\n    <tr style=\"text-align: right;\">\n      <th></th>\n      <th>Team</th>\n      <th>Score</th>\n      <th>Opponent_Score</th>\n      <th>Win</th>\n      <th>count</th>\n      <th>Season</th>\n      <th>W_ratio</th>\n      <th>pyth_classic</th>\n      <th>pyth_el</th>\n    </tr>\n  </thead>\n  <tbody>\n    <tr>\n      <th>0</th>\n      <td>Real Madrid</td>\n      <td>2585</td>\n      <td>2353</td>\n      <td>23</td>\n      <td>30</td>\n      <td>2016/17</td>\n      <td>0.766667</td>\n      <td>0.546879</td>\n      <td>0.738018</td>\n    </tr>\n    <tr>\n      <th>1</th>\n      <td>CSKA Moscow</td>\n      <td>2619</td>\n      <td>2387</td>\n      <td>22</td>\n      <td>30</td>\n      <td>2016/17</td>\n      <td>0.733333</td>\n      <td>0.546245</td>\n      <td>0.735285</td>\n    </tr>\n    <tr>\n      <th>2</th>\n      <td>Olympiacos Piraeus</td>\n      <td>2338</td>\n      <td>2227</td>\n      <td>19</td>\n      <td>30</td>\n      <td>2016/17</td>\n      <td>0.633333</td>\n      <td>0.524301</td>\n      <td>0.630818</td>\n    </tr>\n    <tr>\n      <th>3</th>\n      <td>Panathinaikos Superfoods Athens</td>\n      <td>2326</td>\n      <td>2234</td>\n      <td>19</td>\n      <td>30</td>\n      <td>2016/17</td>\n      <td>0.633333</td>\n      <td>0.520167</td>\n      <td>0.609327</td>\n    </tr>\n    <tr>\n      <th>4</th>\n      <td>Fenerbahce Istanbul</td>\n      <td>2286</td>\n      <td>2244</td>\n      <td>18</td>\n      <td>30</td>\n      <td>2016/17</td>\n      <td>0.600000</td>\n      <td>0.509271</td>\n      <td>0.550883</td>\n    </tr>\n    <tr>\n      <th>5</th>\n      <td>Anadolu Efes Istanbul</td>\n      <td>2521</td>\n      <td>2512</td>\n      <td>17</td>\n      <td>30</td>\n      <td>2016/17</td>\n      <td>0.566667</td>\n      <td>0.501788</td>\n      <td>0.509846</td>\n    </tr>\n    <tr>\n      <th>6</th>\n      <td>Baskonia Vitoria Gasteiz</td>\n      <td>2445</td>\n      <td>2376</td>\n      <td>17</td>\n      <td>30</td>\n      <td>2016/17</td>\n      <td>0.566667</td>\n      <td>0.514309</td>\n      <td>0.578177</td>\n    </tr>\n    <tr>\n      <th>7</th>\n      <td>Crvena Zvezda mts Belgrade</td>\n      <td>2209</td>\n      <td>2204</td>\n      <td>16</td>\n      <td>30</td>\n      <td>2016/17</td>\n      <td>0.533333</td>\n      <td>0.501133</td>\n      <td>0.506239</td>\n    </tr>\n    <tr>\n      <th>8</th>\n      <td>Darussafaka Dogus Istanbul</td>\n      <td>2373</td>\n      <td>2366</td>\n      <td>16</td>\n      <td>30</td>\n      <td>2016/17</td>\n      <td>0.533333</td>\n      <td>0.501477</td>\n      <td>0.508134</td>\n    </tr>\n    <tr>\n      <th>9</th>\n      <td>Zalgiris Kaunas</td>\n      <td>2350</td>\n      <td>2391</td>\n      <td>14</td>\n      <td>30</td>\n      <td>2016/17</td>\n      <td>0.466667</td>\n      <td>0.491353</td>\n      <td>0.452518</td>\n    </tr>\n    <tr>\n      <th>10</th>\n      <td>FC Barcelona Lassa</td>\n      <td>2141</td>\n      <td>2242</td>\n      <td>12</td>\n      <td>30</td>\n      <td>2016/17</td>\n      <td>0.400000</td>\n      <td>0.476969</td>\n      <td>0.375734</td>\n    </tr>\n    <tr>\n      <th>11</th>\n      <td>Galatasaray Odeabank Istanbul</td>\n      <td>2345</td>\n      <td>2475</td>\n      <td>11</td>\n      <td>30</td>\n      <td>2016/17</td>\n      <td>0.366667</td>\n      <td>0.473049</td>\n      <td>0.355658</td>\n    </tr>\n    <tr>\n      <th>12</th>\n      <td>Brose Bamberg</td>\n      <td>2397</td>\n      <td>2430</td>\n      <td>10</td>\n      <td>30</td>\n      <td>2016/17</td>\n      <td>0.333333</td>\n      <td>0.493164</td>\n      <td>0.462422</td>\n    </tr>\n    <tr>\n      <th>13</th>\n      <td>Maccabi FOX Tel Aviv</td>\n      <td>2341</td>\n      <td>2509</td>\n      <td>10</td>\n      <td>30</td>\n      <td>2016/17</td>\n      <td>0.333333</td>\n      <td>0.465402</td>\n      <td>0.317922</td>\n    </tr>\n    <tr>\n      <th>14</th>\n      <td>EA7 Emporio Armani Milan</td>\n      <td>2422</td>\n      <td>2621</td>\n      <td>8</td>\n      <td>30</td>\n      <td>2016/17</td>\n      <td>0.266667</td>\n      <td>0.460601</td>\n      <td>0.295319</td>\n    </tr>\n    <tr>\n      <th>15</th>\n      <td>Unics Kazan</td>\n      <td>2298</td>\n      <td>2425</td>\n      <td>8</td>\n      <td>30</td>\n      <td>2016/17</td>\n      <td>0.266667</td>\n      <td>0.473130</td>\n      <td>0.356069</td>\n    </tr>\n    <tr>\n      <th>0</th>\n      <td>CSKA Moscow</td>\n      <td>2685</td>\n      <td>2389</td>\n      <td>24</td>\n      <td>30</td>\n      <td>2017/18</td>\n      <td>0.800000</td>\n      <td>0.558139</td>\n      <td>0.783554</td>\n    </tr>\n    <tr>\n      <th>1</th>\n      <td>Fenerbahce Dogus Istanbul</td>\n      <td>2421</td>\n      <td>2255</td>\n      <td>21</td>\n      <td>30</td>\n      <td>2017/18</td>\n      <td>0.700000</td>\n      <td>0.535456</td>\n      <td>0.686183</td>\n    </tr>\n    <tr>\n      <th>2</th>\n      <td>Olympiacos Piraeus</td>\n      <td>2335</td>\n      <td>2302</td>\n      <td>19</td>\n      <td>30</td>\n      <td>2017/18</td>\n      <td>0.633333</td>\n      <td>0.507116</td>\n      <td>0.539112</td>\n    </tr>\n    <tr>\n      <th>3</th>\n      <td>Panathinaikos Superfoods Athens</td>\n      <td>2368</td>\n      <td>2325</td>\n      <td>19</td>\n      <td>30</td>\n      <td>2017/18</td>\n      <td>0.633333</td>\n      <td>0.509162</td>\n      <td>0.550289</td>\n    </tr>\n    <tr>\n      <th>4</th>\n      <td>Real Madrid</td>\n      <td>2587</td>\n      <td>2395</td>\n      <td>19</td>\n      <td>30</td>\n      <td>2017/18</td>\n      <td>0.633333</td>\n      <td>0.538482</td>\n      <td>0.700431</td>\n    </tr>\n    <tr>\n      <th>5</th>\n      <td>Zalgiris Kaunas</td>\n      <td>2446</td>\n      <td>2416</td>\n      <td>18</td>\n      <td>30</td>\n      <td>2017/18</td>\n      <td>0.600000</td>\n      <td>0.506170</td>\n      <td>0.533928</td>\n    </tr>\n    <tr>\n      <th>6</th>\n      <td>KIROLBET Baskonia Vitoria Gasteiz</td>\n      <td>2487</td>\n      <td>2373</td>\n      <td>16</td>\n      <td>30</td>\n      <td>2017/18</td>\n      <td>0.533333</td>\n      <td>0.523444</td>\n      <td>0.626399</td>\n    </tr>\n    <tr>\n      <th>7</th>\n      <td>Khimki Moscow Region</td>\n      <td>2338</td>\n      <td>2352</td>\n      <td>16</td>\n      <td>30</td>\n      <td>2017/18</td>\n      <td>0.533333</td>\n      <td>0.497015</td>\n      <td>0.483567</td>\n    </tr>\n    <tr>\n      <th>8</th>\n      <td>Maccabi FOX Tel Aviv</td>\n      <td>2440</td>\n      <td>2530</td>\n      <td>13</td>\n      <td>30</td>\n      <td>2017/18</td>\n      <td>0.433333</td>\n      <td>0.481897</td>\n      <td>0.401567</td>\n    </tr>\n    <tr>\n      <th>9</th>\n      <td>Unicaja Malaga</td>\n      <td>2387</td>\n      <td>2467</td>\n      <td>13</td>\n      <td>30</td>\n      <td>2017/18</td>\n      <td>0.433333</td>\n      <td>0.483523</td>\n      <td>0.410214</td>\n    </tr>\n    <tr>\n      <th>10</th>\n      <td>Valencia Basket</td>\n      <td>2360</td>\n      <td>2449</td>\n      <td>12</td>\n      <td>30</td>\n      <td>2017/18</td>\n      <td>0.400000</td>\n      <td>0.481499</td>\n      <td>0.399459</td>\n    </tr>\n    <tr>\n      <th>11</th>\n      <td>Brose Bamberg</td>\n      <td>2309</td>\n      <td>2446</td>\n      <td>11</td>\n      <td>30</td>\n      <td>2017/18</td>\n      <td>0.366667</td>\n      <td>0.471212</td>\n      <td>0.346414</td>\n    </tr>\n    <tr>\n      <th>12</th>\n      <td>Crvena Zvezda mts Belgrade</td>\n      <td>2333</td>\n      <td>2515</td>\n      <td>11</td>\n      <td>30</td>\n      <td>2017/18</td>\n      <td>0.366667</td>\n      <td>0.462512</td>\n      <td>0.304206</td>\n    </tr>\n    <tr>\n      <th>13</th>\n      <td>FC Barcelona Lassa</td>\n      <td>2456</td>\n      <td>2404</td>\n      <td>11</td>\n      <td>30</td>\n      <td>2017/18</td>\n      <td>0.366667</td>\n      <td>0.510698</td>\n      <td>0.558654</td>\n    </tr>\n    <tr>\n      <th>14</th>\n      <td>AX Armani Exchange Olimpia Milan</td>\n      <td>2450</td>\n      <td>2575</td>\n      <td>10</td>\n      <td>30</td>\n      <td>2017/18</td>\n      <td>0.333333</td>\n      <td>0.475140</td>\n      <td>0.366312</td>\n    </tr>\n    <tr>\n      <th>15</th>\n      <td>Anadolu Efes Istanbul</td>\n      <td>2321</td>\n      <td>2530</td>\n      <td>7</td>\n      <td>30</td>\n      <td>2017/18</td>\n      <td>0.233333</td>\n      <td>0.456996</td>\n      <td>0.278957</td>\n    </tr>\n  </tbody>\n</table>\n</div>"
     },
     "execution_count": 170,
     "metadata": {},
     "output_type": "execute_result"
    }
   ],
   "source": [
    "table_concat"
   ],
   "metadata": {
    "collapsed": false
   }
  },
  {
   "cell_type": "code",
   "execution_count": 140,
   "outputs": [],
   "source": [
    "from scipy.optimize import fmin_l_bfgs_b"
   ],
   "metadata": {
    "collapsed": false
   }
  },
  {
   "cell_type": "code",
   "execution_count": 157,
   "outputs": [],
   "source": [
    "def pyth_fun(x):\n",
    "    x = x[0]\n",
    "    return np.sum((table_concat[\"W_ratio\"] - table_concat[\"Score\"] ** x / (table_concat[\"Score\"] ** x + table_concat[\"Opponent_Score\"] ** x)) ** 2)"
   ],
   "metadata": {
    "collapsed": false
   }
  },
  {
   "cell_type": "code",
   "execution_count": 161,
   "outputs": [],
   "source": [
    "x, f, d = fmin_l_bfgs_b(func=pyth_fun, x0=np.array([2]), approx_grad=True)"
   ],
   "metadata": {
    "collapsed": false
   }
  },
  {
   "cell_type": "code",
   "execution_count": 162,
   "outputs": [
    {
     "data": {
      "text/plain": "array([11.01392807])"
     },
     "execution_count": 162,
     "metadata": {},
     "output_type": "execute_result"
    }
   ],
   "source": [
    "x"
   ],
   "metadata": {
    "collapsed": false
   }
  },
  {
   "cell_type": "code",
   "execution_count": 171,
   "outputs": [],
   "source": [
    "table_2018_2019_half = output_table(games, season=\"2018/19\", round_=15)"
   ],
   "metadata": {
    "collapsed": false
   }
  },
  {
   "cell_type": "code",
   "execution_count": 172,
   "outputs": [
    {
     "data": {
      "text/plain": "                                 Team  Score  Opponent_Score  Win  count  \\\n0            Fenerbahce Beko Istanbul   1254            1120   14     15   \n1                         Real Madrid   1312            1140   12     15   \n2                         CSKA Moscow   1327            1243   11     15   \n3               Anadolu Efes Istanbul   1292            1236    9     15   \n4                  Olympiacos Piraeus   1209            1155    9     15   \n5                  FC Barcelona Lassa   1143            1152    8     15   \n6                    FC Bayern Munich   1207            1212    8     15   \n7    AX Armani Exchange Olimpia Milan   1289            1285    7     15   \n8   KIROLBET Baskonia Vitoria-Gasteiz   1212            1210    7     15   \n9           Panathinaikos OPAP Athens   1192            1202    7     15   \n10                    Zalgiris Kaunas   1221            1210    7     15   \n11             Herbalife Gran Canaria   1218            1318    6     15   \n12               Khimki Moscow Region   1165            1212    5     15   \n13               Maccabi FOX Tel Aviv   1170            1201    5     15   \n14           Buducnost VOLI Podgorica   1088            1264    3     15   \n15        Darussafaka Tekfen Istanbul   1138            1277    2     15   \n\n     Season   W_ratio  pyth_classic   pyth_el  \n0   2018/19  0.933333      0.556266  0.776379  \n1   2018/19  0.800000      0.569803  0.824587  \n2   2018/19  0.733333      0.532650  0.672659  \n3   2018/19  0.600000      0.522141  0.619645  \n4   2018/19  0.600000      0.522831  0.623226  \n5   2018/19  0.533333      0.496078  0.478417  \n6   2018/19  0.533333      0.497933  0.488619  \n7   2018/19  0.466667      0.501554  0.508557  \n8   2018/19  0.466667      0.500826  0.504547  \n9   2018/19  0.466667      0.495823  0.477013  \n10  2018/19  0.466667      0.504525  0.524898  \n11  2018/19  0.400000      0.460629  0.295449  \n12  2018/19  0.333333      0.480235  0.392787  \n13  2018/19  0.333333      0.486928  0.428487  \n14  2018/19  0.200000      0.425587  0.160914  \n15  2018/19  0.133333      0.442633  0.219383  ",
      "text/html": "<div>\n<style scoped>\n    .dataframe tbody tr th:only-of-type {\n        vertical-align: middle;\n    }\n\n    .dataframe tbody tr th {\n        vertical-align: top;\n    }\n\n    .dataframe thead th {\n        text-align: right;\n    }\n</style>\n<table border=\"1\" class=\"dataframe\">\n  <thead>\n    <tr style=\"text-align: right;\">\n      <th></th>\n      <th>Team</th>\n      <th>Score</th>\n      <th>Opponent_Score</th>\n      <th>Win</th>\n      <th>count</th>\n      <th>Season</th>\n      <th>W_ratio</th>\n      <th>pyth_classic</th>\n      <th>pyth_el</th>\n    </tr>\n  </thead>\n  <tbody>\n    <tr>\n      <th>0</th>\n      <td>Fenerbahce Beko Istanbul</td>\n      <td>1254</td>\n      <td>1120</td>\n      <td>14</td>\n      <td>15</td>\n      <td>2018/19</td>\n      <td>0.933333</td>\n      <td>0.556266</td>\n      <td>0.776379</td>\n    </tr>\n    <tr>\n      <th>1</th>\n      <td>Real Madrid</td>\n      <td>1312</td>\n      <td>1140</td>\n      <td>12</td>\n      <td>15</td>\n      <td>2018/19</td>\n      <td>0.800000</td>\n      <td>0.569803</td>\n      <td>0.824587</td>\n    </tr>\n    <tr>\n      <th>2</th>\n      <td>CSKA Moscow</td>\n      <td>1327</td>\n      <td>1243</td>\n      <td>11</td>\n      <td>15</td>\n      <td>2018/19</td>\n      <td>0.733333</td>\n      <td>0.532650</td>\n      <td>0.672659</td>\n    </tr>\n    <tr>\n      <th>3</th>\n      <td>Anadolu Efes Istanbul</td>\n      <td>1292</td>\n      <td>1236</td>\n      <td>9</td>\n      <td>15</td>\n      <td>2018/19</td>\n      <td>0.600000</td>\n      <td>0.522141</td>\n      <td>0.619645</td>\n    </tr>\n    <tr>\n      <th>4</th>\n      <td>Olympiacos Piraeus</td>\n      <td>1209</td>\n      <td>1155</td>\n      <td>9</td>\n      <td>15</td>\n      <td>2018/19</td>\n      <td>0.600000</td>\n      <td>0.522831</td>\n      <td>0.623226</td>\n    </tr>\n    <tr>\n      <th>5</th>\n      <td>FC Barcelona Lassa</td>\n      <td>1143</td>\n      <td>1152</td>\n      <td>8</td>\n      <td>15</td>\n      <td>2018/19</td>\n      <td>0.533333</td>\n      <td>0.496078</td>\n      <td>0.478417</td>\n    </tr>\n    <tr>\n      <th>6</th>\n      <td>FC Bayern Munich</td>\n      <td>1207</td>\n      <td>1212</td>\n      <td>8</td>\n      <td>15</td>\n      <td>2018/19</td>\n      <td>0.533333</td>\n      <td>0.497933</td>\n      <td>0.488619</td>\n    </tr>\n    <tr>\n      <th>7</th>\n      <td>AX Armani Exchange Olimpia Milan</td>\n      <td>1289</td>\n      <td>1285</td>\n      <td>7</td>\n      <td>15</td>\n      <td>2018/19</td>\n      <td>0.466667</td>\n      <td>0.501554</td>\n      <td>0.508557</td>\n    </tr>\n    <tr>\n      <th>8</th>\n      <td>KIROLBET Baskonia Vitoria-Gasteiz</td>\n      <td>1212</td>\n      <td>1210</td>\n      <td>7</td>\n      <td>15</td>\n      <td>2018/19</td>\n      <td>0.466667</td>\n      <td>0.500826</td>\n      <td>0.504547</td>\n    </tr>\n    <tr>\n      <th>9</th>\n      <td>Panathinaikos OPAP Athens</td>\n      <td>1192</td>\n      <td>1202</td>\n      <td>7</td>\n      <td>15</td>\n      <td>2018/19</td>\n      <td>0.466667</td>\n      <td>0.495823</td>\n      <td>0.477013</td>\n    </tr>\n    <tr>\n      <th>10</th>\n      <td>Zalgiris Kaunas</td>\n      <td>1221</td>\n      <td>1210</td>\n      <td>7</td>\n      <td>15</td>\n      <td>2018/19</td>\n      <td>0.466667</td>\n      <td>0.504525</td>\n      <td>0.524898</td>\n    </tr>\n    <tr>\n      <th>11</th>\n      <td>Herbalife Gran Canaria</td>\n      <td>1218</td>\n      <td>1318</td>\n      <td>6</td>\n      <td>15</td>\n      <td>2018/19</td>\n      <td>0.400000</td>\n      <td>0.460629</td>\n      <td>0.295449</td>\n    </tr>\n    <tr>\n      <th>12</th>\n      <td>Khimki Moscow Region</td>\n      <td>1165</td>\n      <td>1212</td>\n      <td>5</td>\n      <td>15</td>\n      <td>2018/19</td>\n      <td>0.333333</td>\n      <td>0.480235</td>\n      <td>0.392787</td>\n    </tr>\n    <tr>\n      <th>13</th>\n      <td>Maccabi FOX Tel Aviv</td>\n      <td>1170</td>\n      <td>1201</td>\n      <td>5</td>\n      <td>15</td>\n      <td>2018/19</td>\n      <td>0.333333</td>\n      <td>0.486928</td>\n      <td>0.428487</td>\n    </tr>\n    <tr>\n      <th>14</th>\n      <td>Buducnost VOLI Podgorica</td>\n      <td>1088</td>\n      <td>1264</td>\n      <td>3</td>\n      <td>15</td>\n      <td>2018/19</td>\n      <td>0.200000</td>\n      <td>0.425587</td>\n      <td>0.160914</td>\n    </tr>\n    <tr>\n      <th>15</th>\n      <td>Darussafaka Tekfen Istanbul</td>\n      <td>1138</td>\n      <td>1277</td>\n      <td>2</td>\n      <td>15</td>\n      <td>2018/19</td>\n      <td>0.133333</td>\n      <td>0.442633</td>\n      <td>0.219383</td>\n    </tr>\n  </tbody>\n</table>\n</div>"
     },
     "execution_count": 172,
     "metadata": {},
     "output_type": "execute_result"
    }
   ],
   "source": [
    "table_2018_2019_half"
   ],
   "metadata": {
    "collapsed": false
   }
  },
  {
   "cell_type": "code",
   "execution_count": null,
   "outputs": [],
   "source": [],
   "metadata": {
    "collapsed": false
   }
  }
 ],
 "metadata": {
  "kernelspec": {
   "display_name": "Python 3",
   "language": "python",
   "name": "python3"
  },
  "language_info": {
   "codemirror_mode": {
    "name": "ipython",
    "version": 2
   },
   "file_extension": ".py",
   "mimetype": "text/x-python",
   "name": "python",
   "nbconvert_exporter": "python",
   "pygments_lexer": "ipython2",
   "version": "2.7.6"
  }
 },
 "nbformat": 4,
 "nbformat_minor": 0
}
