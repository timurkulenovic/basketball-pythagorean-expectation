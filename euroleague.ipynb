{
 "cells": [
  {
   "cell_type": "code",
   "execution_count": 102,
   "metadata": {
    "collapsed": true,
    "pycharm": {
     "name": "#%%\n"
    }
   },
   "outputs": [],
   "source": [
    "import pandas as pd\n",
    "import numpy as np\n",
    "import matplotlib.pyplot as plt"
   ]
  },
  {
   "cell_type": "code",
   "execution_count": 135,
   "outputs": [],
   "source": [
    "league = \"euroleague\"\n",
    "games = pd.read_csv(f\"data/{league}_games.csv\")"
   ],
   "metadata": {
    "collapsed": false,
    "pycharm": {
     "name": "#%%\n"
    }
   }
  },
  {
   "cell_type": "markdown",
   "source": [
    "Today we are going to present."
   ],
   "metadata": {
    "collapsed": false,
    "pycharm": {
     "name": "#%% md\n"
    }
   }
  },
  {
   "cell_type": "code",
   "execution_count": 136,
   "outputs": [
    {
     "data": {
      "text/plain": "       Season            Part      Round        Date   Time  \\\n0     2021/22  REGULAR SEASON    Round 1  2021/09/30  19:00   \n1     2021/22  REGULAR SEASON    Round 1  2021/09/30  20:05   \n2     2021/22  REGULAR SEASON    Round 1  2021/09/30  20:30   \n3     2021/22  REGULAR SEASON    Round 1  2021/09/30  20:45   \n4     2021/22  REGULAR SEASON    Round 1  2021/10/01  18:00   \n...       ...             ...        ...         ...    ...   \n4639  2002/03          TOP 16    Round 6  2003/04/17  00:00   \n4640  2002/03      FINAL FOUR  Semifinal  2003/05/09  18:00   \n4641  2002/03      FINAL FOUR  Semifinal  2003/05/09  20:30   \n4642  2002/03      FINAL FOUR      Final  2003/05/11  00:00   \n4643  2002/03      FINAL FOUR      Final  2003/05/11  20:30   \n\n                       Venue Attendance            Referee1  \\\n0       SALLE GASTON MEDECIN       2151  HIERREZUELO DANIEL   \n1     MENORA MIVTACHIM ARENA      10090      LAMONICA LUIGI   \n2           MEDIOLANUM FORUM       3120  PEREZ MIGUEL ANGEL   \n3              WIZINK CENTER       4050  LOTTERMOSER ROBERT   \n4          BASKET HALL KAZAN       3021      RADOVIC SRETEN   \n...                      ...        ...                 ...   \n4639         PALAU BLAUGRANA       7320      COLUCCI GENARO   \n4640        PALAU SANT JORDI      16670    BETANCOR MIGUELO   \n4641        PALAU SANT JORDI      16670  PITSILKAS NIKOLAOS   \n4642        PALAU SANT JORDI      16670    BETANCOR MIGUELO   \n4643        PALAU SANT JORDI      16670  PITSILKAS NIKOLAOS   \n\n                   Referee2                Referee3  ... A_REB_D A_REB_T  \\\n0           JOVCIC MILIVOJE        CLIVAZ SEBASTIEN  ...      26      43   \n1          JIMENEZ BENJAMIN             KARDUM LUKA  ...      27      35   \n2               JAVOR DAMIR          DIFALLAH MEHDI  ...      28      39   \n3            LATISEVS OLEGS       PATERNICO CARMELO  ...      17      21   \n4             MOGULKOC EMIN  KONSTANTINOVS KRISTAPS  ...      28      40   \n...                     ...                     ...  ...     ...     ...   \n4639        BELOSEVIC ILIJA             SAHIN TOLGA  ...      19      25   \n4640  KOUKOULEKIDIS STELIOS             MARTIN JOSE  ...      26      41   \n4641             REMS IZTOK         BELOSEVIC ILIJA  ...      20      36   \n4642        MUHVIC DUBRAVKO         JOVCIC MILIVOJE  ...      25      35   \n4643             REMS IZTOK   KOUKOULEKIDIS STELIOS  ...      18      26   \n\n     A_ASS A_ST  A_TO  A_BLC_FV  A_BLC_AG  A_FLS_CM  A_FLS_RV  A_PIR  \n0        8    2     8         5         4        18        17     61  \n1       15    5    15         1         2        17        23     82  \n2       13    4    11         0         1        19        23     79  \n3       11    3    11         2         5        10        23     65  \n4       11    5    18         0         0        18        21     78  \n...    ...  ...   ...       ...       ...       ...       ...    ...  \n4639    16   13    18         1         3        28        22     70  \n4640    13   12    17         7         3        21        23     81  \n4641     8   13     9         3         0        30        22     66  \n4642    18    6    11         3         3        20        17     89  \n4643     9   17    12         1         4        29        27     57  \n\n[4644 rows x 66 columns]",
      "text/html": "<div>\n<style scoped>\n    .dataframe tbody tr th:only-of-type {\n        vertical-align: middle;\n    }\n\n    .dataframe tbody tr th {\n        vertical-align: top;\n    }\n\n    .dataframe thead th {\n        text-align: right;\n    }\n</style>\n<table border=\"1\" class=\"dataframe\">\n  <thead>\n    <tr style=\"text-align: right;\">\n      <th></th>\n      <th>Season</th>\n      <th>Part</th>\n      <th>Round</th>\n      <th>Date</th>\n      <th>Time</th>\n      <th>Venue</th>\n      <th>Attendance</th>\n      <th>Referee1</th>\n      <th>Referee2</th>\n      <th>Referee3</th>\n      <th>...</th>\n      <th>A_REB_D</th>\n      <th>A_REB_T</th>\n      <th>A_ASS</th>\n      <th>A_ST</th>\n      <th>A_TO</th>\n      <th>A_BLC_FV</th>\n      <th>A_BLC_AG</th>\n      <th>A_FLS_CM</th>\n      <th>A_FLS_RV</th>\n      <th>A_PIR</th>\n    </tr>\n  </thead>\n  <tbody>\n    <tr>\n      <th>0</th>\n      <td>2021/22</td>\n      <td>REGULAR SEASON</td>\n      <td>Round 1</td>\n      <td>2021/09/30</td>\n      <td>19:00</td>\n      <td>SALLE GASTON MEDECIN</td>\n      <td>2151</td>\n      <td>HIERREZUELO DANIEL</td>\n      <td>JOVCIC MILIVOJE</td>\n      <td>CLIVAZ SEBASTIEN</td>\n      <td>...</td>\n      <td>26</td>\n      <td>43</td>\n      <td>8</td>\n      <td>2</td>\n      <td>8</td>\n      <td>5</td>\n      <td>4</td>\n      <td>18</td>\n      <td>17</td>\n      <td>61</td>\n    </tr>\n    <tr>\n      <th>1</th>\n      <td>2021/22</td>\n      <td>REGULAR SEASON</td>\n      <td>Round 1</td>\n      <td>2021/09/30</td>\n      <td>20:05</td>\n      <td>MENORA MIVTACHIM ARENA</td>\n      <td>10090</td>\n      <td>LAMONICA LUIGI</td>\n      <td>JIMENEZ BENJAMIN</td>\n      <td>KARDUM LUKA</td>\n      <td>...</td>\n      <td>27</td>\n      <td>35</td>\n      <td>15</td>\n      <td>5</td>\n      <td>15</td>\n      <td>1</td>\n      <td>2</td>\n      <td>17</td>\n      <td>23</td>\n      <td>82</td>\n    </tr>\n    <tr>\n      <th>2</th>\n      <td>2021/22</td>\n      <td>REGULAR SEASON</td>\n      <td>Round 1</td>\n      <td>2021/09/30</td>\n      <td>20:30</td>\n      <td>MEDIOLANUM FORUM</td>\n      <td>3120</td>\n      <td>PEREZ MIGUEL ANGEL</td>\n      <td>JAVOR DAMIR</td>\n      <td>DIFALLAH MEHDI</td>\n      <td>...</td>\n      <td>28</td>\n      <td>39</td>\n      <td>13</td>\n      <td>4</td>\n      <td>11</td>\n      <td>0</td>\n      <td>1</td>\n      <td>19</td>\n      <td>23</td>\n      <td>79</td>\n    </tr>\n    <tr>\n      <th>3</th>\n      <td>2021/22</td>\n      <td>REGULAR SEASON</td>\n      <td>Round 1</td>\n      <td>2021/09/30</td>\n      <td>20:45</td>\n      <td>WIZINK CENTER</td>\n      <td>4050</td>\n      <td>LOTTERMOSER ROBERT</td>\n      <td>LATISEVS OLEGS</td>\n      <td>PATERNICO CARMELO</td>\n      <td>...</td>\n      <td>17</td>\n      <td>21</td>\n      <td>11</td>\n      <td>3</td>\n      <td>11</td>\n      <td>2</td>\n      <td>5</td>\n      <td>10</td>\n      <td>23</td>\n      <td>65</td>\n    </tr>\n    <tr>\n      <th>4</th>\n      <td>2021/22</td>\n      <td>REGULAR SEASON</td>\n      <td>Round 1</td>\n      <td>2021/10/01</td>\n      <td>18:00</td>\n      <td>BASKET HALL KAZAN</td>\n      <td>3021</td>\n      <td>RADOVIC SRETEN</td>\n      <td>MOGULKOC EMIN</td>\n      <td>KONSTANTINOVS KRISTAPS</td>\n      <td>...</td>\n      <td>28</td>\n      <td>40</td>\n      <td>11</td>\n      <td>5</td>\n      <td>18</td>\n      <td>0</td>\n      <td>0</td>\n      <td>18</td>\n      <td>21</td>\n      <td>78</td>\n    </tr>\n    <tr>\n      <th>...</th>\n      <td>...</td>\n      <td>...</td>\n      <td>...</td>\n      <td>...</td>\n      <td>...</td>\n      <td>...</td>\n      <td>...</td>\n      <td>...</td>\n      <td>...</td>\n      <td>...</td>\n      <td>...</td>\n      <td>...</td>\n      <td>...</td>\n      <td>...</td>\n      <td>...</td>\n      <td>...</td>\n      <td>...</td>\n      <td>...</td>\n      <td>...</td>\n      <td>...</td>\n      <td>...</td>\n    </tr>\n    <tr>\n      <th>4639</th>\n      <td>2002/03</td>\n      <td>TOP 16</td>\n      <td>Round 6</td>\n      <td>2003/04/17</td>\n      <td>00:00</td>\n      <td>PALAU BLAUGRANA</td>\n      <td>7320</td>\n      <td>COLUCCI GENARO</td>\n      <td>BELOSEVIC ILIJA</td>\n      <td>SAHIN TOLGA</td>\n      <td>...</td>\n      <td>19</td>\n      <td>25</td>\n      <td>16</td>\n      <td>13</td>\n      <td>18</td>\n      <td>1</td>\n      <td>3</td>\n      <td>28</td>\n      <td>22</td>\n      <td>70</td>\n    </tr>\n    <tr>\n      <th>4640</th>\n      <td>2002/03</td>\n      <td>FINAL FOUR</td>\n      <td>Semifinal</td>\n      <td>2003/05/09</td>\n      <td>18:00</td>\n      <td>PALAU SANT JORDI</td>\n      <td>16670</td>\n      <td>BETANCOR MIGUELO</td>\n      <td>KOUKOULEKIDIS STELIOS</td>\n      <td>MARTIN JOSE</td>\n      <td>...</td>\n      <td>26</td>\n      <td>41</td>\n      <td>13</td>\n      <td>12</td>\n      <td>17</td>\n      <td>7</td>\n      <td>3</td>\n      <td>21</td>\n      <td>23</td>\n      <td>81</td>\n    </tr>\n    <tr>\n      <th>4641</th>\n      <td>2002/03</td>\n      <td>FINAL FOUR</td>\n      <td>Semifinal</td>\n      <td>2003/05/09</td>\n      <td>20:30</td>\n      <td>PALAU SANT JORDI</td>\n      <td>16670</td>\n      <td>PITSILKAS NIKOLAOS</td>\n      <td>REMS IZTOK</td>\n      <td>BELOSEVIC ILIJA</td>\n      <td>...</td>\n      <td>20</td>\n      <td>36</td>\n      <td>8</td>\n      <td>13</td>\n      <td>9</td>\n      <td>3</td>\n      <td>0</td>\n      <td>30</td>\n      <td>22</td>\n      <td>66</td>\n    </tr>\n    <tr>\n      <th>4642</th>\n      <td>2002/03</td>\n      <td>FINAL FOUR</td>\n      <td>Final</td>\n      <td>2003/05/11</td>\n      <td>00:00</td>\n      <td>PALAU SANT JORDI</td>\n      <td>16670</td>\n      <td>BETANCOR MIGUELO</td>\n      <td>MUHVIC DUBRAVKO</td>\n      <td>JOVCIC MILIVOJE</td>\n      <td>...</td>\n      <td>25</td>\n      <td>35</td>\n      <td>18</td>\n      <td>6</td>\n      <td>11</td>\n      <td>3</td>\n      <td>3</td>\n      <td>20</td>\n      <td>17</td>\n      <td>89</td>\n    </tr>\n    <tr>\n      <th>4643</th>\n      <td>2002/03</td>\n      <td>FINAL FOUR</td>\n      <td>Final</td>\n      <td>2003/05/11</td>\n      <td>20:30</td>\n      <td>PALAU SANT JORDI</td>\n      <td>16670</td>\n      <td>PITSILKAS NIKOLAOS</td>\n      <td>REMS IZTOK</td>\n      <td>KOUKOULEKIDIS STELIOS</td>\n      <td>...</td>\n      <td>18</td>\n      <td>26</td>\n      <td>9</td>\n      <td>17</td>\n      <td>12</td>\n      <td>1</td>\n      <td>4</td>\n      <td>29</td>\n      <td>27</td>\n      <td>57</td>\n    </tr>\n  </tbody>\n</table>\n<p>4644 rows × 66 columns</p>\n</div>"
     },
     "execution_count": 136,
     "metadata": {},
     "output_type": "execute_result"
    }
   ],
   "source": [
    "games"
   ],
   "metadata": {
    "collapsed": false,
    "pycharm": {
     "name": "#%%\n"
    }
   }
  },
  {
   "cell_type": "code",
   "execution_count": 137,
   "outputs": [],
   "source": [
    "games = games[[\"Season\", \"Part\", \"Round\", \"H_Team\", \"A_Team\", \"H_Score\", \"A_Score\"]]\n",
    "games = games.loc[games['Part'].isin([\"REGULAR SEASON\", \"Regular\"])]\n",
    "if league == \"euroleague\":\n",
    "    games[\"Round\"] = games.Round.str.extract('(\\d+)')[0].astype(int)\n",
    "games[\"H_Win\"] = np.where(games[\"H_Score\"] > games[\"A_Score\"], 1, 0)\n",
    "games[\"A_Win\"] = np.where(games[\"H_Score\"] < games[\"A_Score\"], 1, 0)\n",
    "games[\"count\"] = 1"
   ],
   "metadata": {
    "collapsed": false,
    "pycharm": {
     "name": "#%%\n"
    }
   }
  },
  {
   "cell_type": "code",
   "execution_count": 106,
   "outputs": [],
   "source": [
    "def output_table(input_games, season, p=2, round_=None):\n",
    "    games_season = input_games[input_games[\"Season\"] == season]\n",
    "    max_round = round_\n",
    "    if not max_round:\n",
    "        max_round = max(games_season[\"Round\"])\n",
    "    games_season = games_season[games_season[\"Round\"] <= max_round]\n",
    "\n",
    "    table_home = games_season.groupby(\"H_Team\").sum()[[\"H_Score\", \"A_Score\", \"H_Win\", \"count\"]].reset_index()\n",
    "    table_home = table_home.rename(columns={\"H_Team\": \"Team\", \"H_Score\": \"Score\", \"A_Score\": \"Opponent_Score\", \"H_Win\": \"Win\"})\n",
    "\n",
    "    table_away = games_season.groupby(\"A_Team\").sum()[[\"H_Score\", \"A_Score\", \"A_Win\", \"count\"]].reset_index()\n",
    "    table_away = table_away.rename(columns={\"A_Team\": \"Team\", \"A_Score\": \"Score\", \"H_Score\": \"Opponent_Score\", \"A_Win\": \"Win\"})\n",
    "\n",
    "    table = pd.concat([table_home, table_away]).groupby(['Team']).sum().sort_values(\"Win\", ascending=False).reset_index()\n",
    "\n",
    "    table[\"Season\"] = season\n",
    "    table[\"W_ratio\"] = table[\"Win\"] / table[\"count\"]\n",
    "    table[\"pyth_classic\"] = table[\"Score\"] ** 2 / (table[\"Score\"] ** 2 + table[\"Opponent_Score\"] ** 2)\n",
    "    table[\"pyth_el\"] = table[\"Score\"] ** p / (table[\"Score\"] ** p + table[\"Opponent_Score\"] ** p)\n",
    "    return table"
   ],
   "metadata": {
    "collapsed": false,
    "pycharm": {
     "name": "#%%\n"
    }
   }
  },
  {
   "cell_type": "code",
   "execution_count": 107,
   "outputs": [],
   "source": [
    "table_2016_2017 = output_table(games, season=\"2016/17\")\n",
    "table_2017_2018 = output_table(games, season=\"2017/18\")\n",
    "table_2018_2019 = output_table(games, season=\"2018/19\")\n",
    "table_2019_2020 = output_table(games, season=\"2020/21\")\n",
    "table_2020_2021 = output_table(games, season=\"2020/21\")"
   ],
   "metadata": {
    "collapsed": false,
    "pycharm": {
     "name": "#%%\n"
    }
   }
  },
  {
   "cell_type": "code",
   "execution_count": 108,
   "outputs": [
    {
     "data": {
      "text/plain": "<matplotlib.legend.Legend at 0x7fcc0d050ac0>"
     },
     "execution_count": 108,
     "metadata": {},
     "output_type": "execute_result"
    },
    {
     "data": {
      "text/plain": "<Figure size 432x288 with 2 Axes>",
      "image/png": "[encoded data removed]"
     },
     "metadata": {
      "needs_background": "light"
     },
     "output_type": "display_data"
    }
   ],
   "source": [
    "table_concat = pd.concat([table_2016_2017, table_2017_2018, table_2018_2019])\n",
    "\n",
    "f, (ax1, ax2) = plt.subplots(1, 2)\n",
    "\n",
    "ax1.scatter(table_2016_2017[\"W_ratio\"], table_2016_2017[\"pyth_classic\"], label=\"2016/2017\")\n",
    "ax1.scatter(table_2017_2018[\"W_ratio\"], table_2017_2018[\"pyth_classic\"], label=\"2017/2018\")\n",
    "m1, b1  = np.polyfit(table_concat[\"W_ratio\"], table_concat[\"pyth_classic\"], 1)\n",
    "ax1.plot(table_concat[\"W_ratio\"], m1 * table_concat[\"W_ratio\"] + b1, color=\"green\")\n",
    "\n",
    "ax2.scatter(table_2016_2017[\"W_ratio\"], table_2016_2017[\"pyth_el\"], label=\"2016/2017\")\n",
    "ax2.scatter(table_2017_2018[\"W_ratio\"], table_2017_2018[\"pyth_el\"], label=\"2017/2018\")\n",
    "m1, b1  = np.polyfit(table_concat[\"W_ratio\"], table_concat[\"pyth_el\"], 1)\n",
    "plt.plot(table_concat[\"W_ratio\"], m1 * table_concat[\"W_ratio\"] + b1, color=\"green\")\n",
    "\n",
    "plt.legend()"
   ],
   "metadata": {
    "collapsed": false,
    "pycharm": {
     "name": "#%%\n"
    }
   }
  },
  {
   "cell_type": "code",
   "execution_count": 109,
   "outputs": [
    {
     "data": {
      "text/plain": "0.9383285613149113"
     },
     "execution_count": 109,
     "metadata": {},
     "output_type": "execute_result"
    }
   ],
   "source": [
    "table_concat[\"W_ratio\"].corr(table_concat[\"pyth_el\"])"
   ],
   "metadata": {
    "collapsed": false,
    "pycharm": {
     "name": "#%%\n"
    }
   }
  },
  {
   "cell_type": "code",
   "execution_count": 110,
   "outputs": [
    {
     "data": {
      "text/plain": "                                 Team  Score  Opponent_Score  Win  count  \\\n0                         Real Madrid   2585            2353   23     30   \n1                         CSKA Moscow   2619            2387   22     30   \n2                  Olympiacos Piraeus   2338            2227   19     30   \n3     Panathinaikos Superfoods Athens   2326            2234   19     30   \n4                 Fenerbahce Istanbul   2286            2244   18     30   \n5               Anadolu Efes Istanbul   2521            2512   17     30   \n6            Baskonia Vitoria Gasteiz   2445            2376   17     30   \n7          Crvena Zvezda mts Belgrade   2209            2204   16     30   \n8          Darussafaka Dogus Istanbul   2373            2366   16     30   \n9                     Zalgiris Kaunas   2350            2391   14     30   \n10                 FC Barcelona Lassa   2141            2242   12     30   \n11      Galatasaray Odeabank Istanbul   2345            2475   11     30   \n12                      Brose Bamberg   2397            2430   10     30   \n13               Maccabi FOX Tel Aviv   2341            2509   10     30   \n14           EA7 Emporio Armani Milan   2422            2621    8     30   \n15                        Unics Kazan   2298            2425    8     30   \n0                         CSKA Moscow   2685            2389   24     30   \n1           Fenerbahce Dogus Istanbul   2421            2255   21     30   \n2                  Olympiacos Piraeus   2335            2302   19     30   \n3     Panathinaikos Superfoods Athens   2368            2325   19     30   \n4                         Real Madrid   2587            2395   19     30   \n5                     Zalgiris Kaunas   2446            2416   18     30   \n6   KIROLBET Baskonia Vitoria Gasteiz   2487            2373   16     30   \n7                Khimki Moscow Region   2338            2352   16     30   \n8                Maccabi FOX Tel Aviv   2440            2530   13     30   \n9                      Unicaja Malaga   2387            2467   13     30   \n10                    Valencia Basket   2360            2449   12     30   \n11                      Brose Bamberg   2309            2446   11     30   \n12         Crvena Zvezda mts Belgrade   2333            2515   11     30   \n13                 FC Barcelona Lassa   2456            2404   11     30   \n14   AX Armani Exchange Olimpia Milan   2450            2575   10     30   \n15              Anadolu Efes Istanbul   2321            2530    7     30   \n0            Fenerbahce Beko Istanbul   2530            2273   25     30   \n1                         CSKA Moscow   2603            2408   24     30   \n2                         Real Madrid   2578            2342   22     30   \n3               Anadolu Efes Istanbul   2562            2406   20     30   \n4                  FC Barcelona Lassa   2370            2291   18     30   \n5           Panathinaikos OPAP Athens   2389            2356   16     30   \n6   KIROLBET Baskonia Vitoria-Gasteiz   2456            2389   15     30   \n7                  Olympiacos Piraeus   2337            2308   15     30   \n8                     Zalgiris Kaunas   2391            2355   15     30   \n9    AX Armani Exchange Olimpia Milan   2618            2615   14     30   \n10                   FC Bayern Munich   2372            2424   14     30   \n11               Maccabi FOX Tel Aviv   2376            2346   14     30   \n12               Khimki Moscow Region   2345            2455    9     30   \n13             Herbalife Gran Canaria   2332            2633    8     30   \n14           Buducnost VOLI Podgorica   2230            2550    6     30   \n15        Darussafaka Tekfen Istanbul   2238            2576    5     30   \n\n     Season   W_ratio  pyth_classic   pyth_el  \n0   2016/17  0.766667      0.546879  0.546879  \n1   2016/17  0.733333      0.546245  0.546245  \n2   2016/17  0.633333      0.524301  0.524301  \n3   2016/17  0.633333      0.520167  0.520167  \n4   2016/17  0.600000      0.509271  0.509271  \n5   2016/17  0.566667      0.501788  0.501788  \n6   2016/17  0.566667      0.514309  0.514309  \n7   2016/17  0.533333      0.501133  0.501133  \n8   2016/17  0.533333      0.501477  0.501477  \n9   2016/17  0.466667      0.491353  0.491353  \n10  2016/17  0.400000      0.476969  0.476969  \n11  2016/17  0.366667      0.473049  0.473049  \n12  2016/17  0.333333      0.493164  0.493164  \n13  2016/17  0.333333      0.465402  0.465402  \n14  2016/17  0.266667      0.460601  0.460601  \n15  2016/17  0.266667      0.473130  0.473130  \n0   2017/18  0.800000      0.558139  0.558139  \n1   2017/18  0.700000      0.535456  0.535456  \n2   2017/18  0.633333      0.507116  0.507116  \n3   2017/18  0.633333      0.509162  0.509162  \n4   2017/18  0.633333      0.538482  0.538482  \n5   2017/18  0.600000      0.506170  0.506170  \n6   2017/18  0.533333      0.523444  0.523444  \n7   2017/18  0.533333      0.497015  0.497015  \n8   2017/18  0.433333      0.481897  0.481897  \n9   2017/18  0.433333      0.483523  0.483523  \n10  2017/18  0.400000      0.481499  0.481499  \n11  2017/18  0.366667      0.471212  0.471212  \n12  2017/18  0.366667      0.462512  0.462512  \n13  2017/18  0.366667      0.510698  0.510698  \n14  2017/18  0.333333      0.475140  0.475140  \n15  2017/18  0.233333      0.456996  0.456996  \n0   2018/19  0.833333      0.553355  0.553355  \n1   2018/19  0.800000      0.538856  0.538856  \n2   2018/19  0.733333      0.547857  0.547857  \n3   2018/19  0.666667      0.531370  0.531370  \n4   2018/19  0.600000      0.516944  0.516944  \n5   2018/19  0.533333      0.506954  0.506954  \n6   2018/19  0.500000      0.513826  0.513826  \n7   2018/19  0.500000      0.506243  0.506243  \n8   2018/19  0.500000      0.507585  0.507585  \n9   2018/19  0.466667      0.500573  0.500573  \n10  2018/19  0.466667      0.489159  0.489159  \n11  2018/19  0.466667      0.506353  0.506353  \n12  2018/19  0.300000      0.477095  0.477095  \n13  2018/19  0.266667      0.439598  0.439598  \n14  2018/19  0.200000      0.433353  0.433353  \n15  2018/19  0.166667      0.430133  0.430133  ",
      "text/html": "<div>\n<style scoped>\n    .dataframe tbody tr th:only-of-type {\n        vertical-align: middle;\n    }\n\n    .dataframe tbody tr th {\n        vertical-align: top;\n    }\n\n    .dataframe thead th {\n        text-align: right;\n    }\n</style>\n<table border=\"1\" class=\"dataframe\">\n  <thead>\n    <tr style=\"text-align: right;\">\n      <th></th>\n      <th>Team</th>\n      <th>Score</th>\n      <th>Opponent_Score</th>\n      <th>Win</th>\n      <th>count</th>\n      <th>Season</th>\n      <th>W_ratio</th>\n      <th>pyth_classic</th>\n      <th>pyth_el</th>\n    </tr>\n  </thead>\n  <tbody>\n    <tr>\n      <th>0</th>\n      <td>Real Madrid</td>\n      <td>2585</td>\n      <td>2353</td>\n      <td>23</td>\n      <td>30</td>\n      <td>2016/17</td>\n      <td>0.766667</td>\n      <td>0.546879</td>\n      <td>0.546879</td>\n    </tr>\n    <tr>\n      <th>1</th>\n      <td>CSKA Moscow</td>\n      <td>2619</td>\n      <td>2387</td>\n      <td>22</td>\n      <td>30</td>\n      <td>2016/17</td>\n      <td>0.733333</td>\n      <td>0.546245</td>\n      <td>0.546245</td>\n    </tr>\n    <tr>\n      <th>2</th>\n      <td>Olympiacos Piraeus</td>\n      <td>2338</td>\n      <td>2227</td>\n      <td>19</td>\n      <td>30</td>\n      <td>2016/17</td>\n      <td>0.633333</td>\n      <td>0.524301</td>\n      <td>0.524301</td>\n    </tr>\n    <tr>\n      <th>3</th>\n      <td>Panathinaikos Superfoods Athens</td>\n      <td>2326</td>\n      <td>2234</td>\n      <td>19</td>\n      <td>30</td>\n      <td>2016/17</td>\n      <td>0.633333</td>\n      <td>0.520167</td>\n      <td>0.520167</td>\n    </tr>\n    <tr>\n      <th>4</th>\n      <td>Fenerbahce Istanbul</td>\n      <td>2286</td>\n      <td>2244</td>\n      <td>18</td>\n      <td>30</td>\n      <td>2016/17</td>\n      <td>0.600000</td>\n      <td>0.509271</td>\n      <td>0.509271</td>\n    </tr>\n    <tr>\n      <th>5</th>\n      <td>Anadolu Efes Istanbul</td>\n      <td>2521</td>\n      <td>2512</td>\n      <td>17</td>\n      <td>30</td>\n      <td>2016/17</td>\n      <td>0.566667</td>\n      <td>0.501788</td>\n      <td>0.501788</td>\n    </tr>\n    <tr>\n      <th>6</th>\n      <td>Baskonia Vitoria Gasteiz</td>\n      <td>2445</td>\n      <td>2376</td>\n      <td>17</td>\n      <td>30</td>\n      <td>2016/17</td>\n      <td>0.566667</td>\n      <td>0.514309</td>\n      <td>0.514309</td>\n    </tr>\n    <tr>\n      <th>7</th>\n      <td>Crvena Zvezda mts Belgrade</td>\n      <td>2209</td>\n      <td>2204</td>\n      <td>16</td>\n      <td>30</td>\n      <td>2016/17</td>\n      <td>0.533333</td>\n      <td>0.501133</td>\n      <td>0.501133</td>\n    </tr>\n    <tr>\n      <th>8</th>\n      <td>Darussafaka Dogus Istanbul</td>\n      <td>2373</td>\n      <td>2366</td>\n      <td>16</td>\n      <td>30</td>\n      <td>2016/17</td>\n      <td>0.533333</td>\n      <td>0.501477</td>\n      <td>0.501477</td>\n    </tr>\n    <tr>\n      <th>9</th>\n      <td>Zalgiris Kaunas</td>\n      <td>2350</td>\n      <td>2391</td>\n      <td>14</td>\n      <td>30</td>\n      <td>2016/17</td>\n      <td>0.466667</td>\n      <td>0.491353</td>\n      <td>0.491353</td>\n    </tr>\n    <tr>\n      <th>10</th>\n      <td>FC Barcelona Lassa</td>\n      <td>2141</td>\n      <td>2242</td>\n      <td>12</td>\n      <td>30</td>\n      <td>2016/17</td>\n      <td>0.400000</td>\n      <td>0.476969</td>\n      <td>0.476969</td>\n    </tr>\n    <tr>\n      <th>11</th>\n      <td>Galatasaray Odeabank Istanbul</td>\n      <td>2345</td>\n      <td>2475</td>\n      <td>11</td>\n      <td>30</td>\n      <td>2016/17</td>\n      <td>0.366667</td>\n      <td>0.473049</td>\n      <td>0.473049</td>\n    </tr>\n    <tr>\n      <th>12</th>\n      <td>Brose Bamberg</td>\n      <td>2397</td>\n      <td>2430</td>\n      <td>10</td>\n      <td>30</td>\n      <td>2016/17</td>\n      <td>0.333333</td>\n      <td>0.493164</td>\n      <td>0.493164</td>\n    </tr>\n    <tr>\n      <th>13</th>\n      <td>Maccabi FOX Tel Aviv</td>\n      <td>2341</td>\n      <td>2509</td>\n      <td>10</td>\n      <td>30</td>\n      <td>2016/17</td>\n      <td>0.333333</td>\n      <td>0.465402</td>\n      <td>0.465402</td>\n    </tr>\n    <tr>\n      <th>14</th>\n      <td>EA7 Emporio Armani Milan</td>\n      <td>2422</td>\n      <td>2621</td>\n      <td>8</td>\n      <td>30</td>\n      <td>2016/17</td>\n      <td>0.266667</td>\n      <td>0.460601</td>\n      <td>0.460601</td>\n    </tr>\n    <tr>\n      <th>15</th>\n      <td>Unics Kazan</td>\n      <td>2298</td>\n      <td>2425</td>\n      <td>8</td>\n      <td>30</td>\n      <td>2016/17</td>\n      <td>0.266667</td>\n      <td>0.473130</td>\n      <td>0.473130</td>\n    </tr>\n    <tr>\n      <th>0</th>\n      <td>CSKA Moscow</td>\n      <td>2685</td>\n      <td>2389</td>\n      <td>24</td>\n      <td>30</td>\n      <td>2017/18</td>\n      <td>0.800000</td>\n      <td>0.558139</td>\n      <td>0.558139</td>\n    </tr>\n    <tr>\n      <th>1</th>\n      <td>Fenerbahce Dogus Istanbul</td>\n      <td>2421</td>\n      <td>2255</td>\n      <td>21</td>\n      <td>30</td>\n      <td>2017/18</td>\n      <td>0.700000</td>\n      <td>0.535456</td>\n      <td>0.535456</td>\n    </tr>\n    <tr>\n      <th>2</th>\n      <td>Olympiacos Piraeus</td>\n      <td>2335</td>\n      <td>2302</td>\n      <td>19</td>\n      <td>30</td>\n      <td>2017/18</td>\n      <td>0.633333</td>\n      <td>0.507116</td>\n      <td>0.507116</td>\n    </tr>\n    <tr>\n      <th>3</th>\n      <td>Panathinaikos Superfoods Athens</td>\n      <td>2368</td>\n      <td>2325</td>\n      <td>19</td>\n      <td>30</td>\n      <td>2017/18</td>\n      <td>0.633333</td>\n      <td>0.509162</td>\n      <td>0.509162</td>\n    </tr>\n    <tr>\n      <th>4</th>\n      <td>Real Madrid</td>\n      <td>2587</td>\n      <td>2395</td>\n      <td>19</td>\n      <td>30</td>\n      <td>2017/18</td>\n      <td>0.633333</td>\n      <td>0.538482</td>\n      <td>0.538482</td>\n    </tr>\n    <tr>\n      <th>5</th>\n      <td>Zalgiris Kaunas</td>\n      <td>2446</td>\n      <td>2416</td>\n      <td>18</td>\n      <td>30</td>\n      <td>2017/18</td>\n      <td>0.600000</td>\n      <td>0.506170</td>\n      <td>0.506170</td>\n    </tr>\n    <tr>\n      <th>6</th>\n      <td>KIROLBET Baskonia Vitoria Gasteiz</td>\n      <td>2487</td>\n      <td>2373</td>\n      <td>16</td>\n      <td>30</td>\n      <td>2017/18</td>\n      <td>0.533333</td>\n      <td>0.523444</td>\n      <td>0.523444</td>\n    </tr>\n    <tr>\n      <th>7</th>\n      <td>Khimki Moscow Region</td>\n      <td>2338</td>\n      <td>2352</td>\n      <td>16</td>\n      <td>30</td>\n      <td>2017/18</td>\n      <td>0.533333</td>\n      <td>0.497015</td>\n      <td>0.497015</td>\n    </tr>\n    <tr>\n      <th>8</th>\n      <td>Maccabi FOX Tel Aviv</td>\n      <td>2440</td>\n      <td>2530</td>\n      <td>13</td>\n      <td>30</td>\n      <td>2017/18</td>\n      <td>0.433333</td>\n      <td>0.481897</td>\n      <td>0.481897</td>\n    </tr>\n    <tr>\n      <th>9</th>\n      <td>Unicaja Malaga</td>\n      <td>2387</td>\n      <td>2467</td>\n      <td>13</td>\n      <td>30</td>\n      <td>2017/18</td>\n      <td>0.433333</td>\n      <td>0.483523</td>\n      <td>0.483523</td>\n    </tr>\n    <tr>\n      <th>10</th>\n      <td>Valencia Basket</td>\n      <td>2360</td>\n      <td>2449</td>\n      <td>12</td>\n      <td>30</td>\n      <td>2017/18</td>\n      <td>0.400000</td>\n      <td>0.481499</td>\n      <td>0.481499</td>\n    </tr>\n    <tr>\n      <th>11</th>\n      <td>Brose Bamberg</td>\n      <td>2309</td>\n      <td>2446</td>\n      <td>11</td>\n      <td>30</td>\n      <td>2017/18</td>\n      <td>0.366667</td>\n      <td>0.471212</td>\n      <td>0.471212</td>\n    </tr>\n    <tr>\n      <th>12</th>\n      <td>Crvena Zvezda mts Belgrade</td>\n      <td>2333</td>\n      <td>2515</td>\n      <td>11</td>\n      <td>30</td>\n      <td>2017/18</td>\n      <td>0.366667</td>\n      <td>0.462512</td>\n      <td>0.462512</td>\n    </tr>\n    <tr>\n      <th>13</th>\n      <td>FC Barcelona Lassa</td>\n      <td>2456</td>\n      <td>2404</td>\n      <td>11</td>\n      <td>30</td>\n      <td>2017/18</td>\n      <td>0.366667</td>\n      <td>0.510698</td>\n      <td>0.510698</td>\n    </tr>\n    <tr>\n      <th>14</th>\n      <td>AX Armani Exchange Olimpia Milan</td>\n      <td>2450</td>\n      <td>2575</td>\n      <td>10</td>\n      <td>30</td>\n      <td>2017/18</td>\n      <td>0.333333</td>\n      <td>0.475140</td>\n      <td>0.475140</td>\n    </tr>\n    <tr>\n      <th>15</th>\n      <td>Anadolu Efes Istanbul</td>\n      <td>2321</td>\n      <td>2530</td>\n      <td>7</td>\n      <td>30</td>\n      <td>2017/18</td>\n      <td>0.233333</td>\n      <td>0.456996</td>\n      <td>0.456996</td>\n    </tr>\n    <tr>\n      <th>0</th>\n      <td>Fenerbahce Beko Istanbul</td>\n      <td>2530</td>\n      <td>2273</td>\n      <td>25</td>\n      <td>30</td>\n      <td>2018/19</td>\n      <td>0.833333</td>\n      <td>0.553355</td>\n      <td>0.553355</td>\n    </tr>\n    <tr>\n      <th>1</th>\n      <td>CSKA Moscow</td>\n      <td>2603</td>\n      <td>2408</td>\n      <td>24</td>\n      <td>30</td>\n      <td>2018/19</td>\n      <td>0.800000</td>\n      <td>0.538856</td>\n      <td>0.538856</td>\n    </tr>\n    <tr>\n      <th>2</th>\n      <td>Real Madrid</td>\n      <td>2578</td>\n      <td>2342</td>\n      <td>22</td>\n      <td>30</td>\n      <td>2018/19</td>\n      <td>0.733333</td>\n      <td>0.547857</td>\n      <td>0.547857</td>\n    </tr>\n    <tr>\n      <th>3</th>\n      <td>Anadolu Efes Istanbul</td>\n      <td>2562</td>\n      <td>2406</td>\n      <td>20</td>\n      <td>30</td>\n      <td>2018/19</td>\n      <td>0.666667</td>\n      <td>0.531370</td>\n      <td>0.531370</td>\n    </tr>\n    <tr>\n      <th>4</th>\n      <td>FC Barcelona Lassa</td>\n      <td>2370</td>\n      <td>2291</td>\n      <td>18</td>\n      <td>30</td>\n      <td>2018/19</td>\n      <td>0.600000</td>\n      <td>0.516944</td>\n      <td>0.516944</td>\n    </tr>\n    <tr>\n      <th>5</th>\n      <td>Panathinaikos OPAP Athens</td>\n      <td>2389</td>\n      <td>2356</td>\n      <td>16</td>\n      <td>30</td>\n      <td>2018/19</td>\n      <td>0.533333</td>\n      <td>0.506954</td>\n      <td>0.506954</td>\n    </tr>\n    <tr>\n      <th>6</th>\n      <td>KIROLBET Baskonia Vitoria-Gasteiz</td>\n      <td>2456</td>\n      <td>2389</td>\n      <td>15</td>\n      <td>30</td>\n      <td>2018/19</td>\n      <td>0.500000</td>\n      <td>0.513826</td>\n      <td>0.513826</td>\n    </tr>\n    <tr>\n      <th>7</th>\n      <td>Olympiacos Piraeus</td>\n      <td>2337</td>\n      <td>2308</td>\n      <td>15</td>\n      <td>30</td>\n      <td>2018/19</td>\n      <td>0.500000</td>\n      <td>0.506243</td>\n      <td>0.506243</td>\n    </tr>\n    <tr>\n      <th>8</th>\n      <td>Zalgiris Kaunas</td>\n      <td>2391</td>\n      <td>2355</td>\n      <td>15</td>\n      <td>30</td>\n      <td>2018/19</td>\n      <td>0.500000</td>\n      <td>0.507585</td>\n      <td>0.507585</td>\n    </tr>\n    <tr>\n      <th>9</th>\n      <td>AX Armani Exchange Olimpia Milan</td>\n      <td>2618</td>\n      <td>2615</td>\n      <td>14</td>\n      <td>30</td>\n      <td>2018/19</td>\n      <td>0.466667</td>\n      <td>0.500573</td>\n      <td>0.500573</td>\n    </tr>\n    <tr>\n      <th>10</th>\n      <td>FC Bayern Munich</td>\n      <td>2372</td>\n      <td>2424</td>\n      <td>14</td>\n      <td>30</td>\n      <td>2018/19</td>\n      <td>0.466667</td>\n      <td>0.489159</td>\n      <td>0.489159</td>\n    </tr>\n    <tr>\n      <th>11</th>\n      <td>Maccabi FOX Tel Aviv</td>\n      <td>2376</td>\n      <td>2346</td>\n      <td>14</td>\n      <td>30</td>\n      <td>2018/19</td>\n      <td>0.466667</td>\n      <td>0.506353</td>\n      <td>0.506353</td>\n    </tr>\n    <tr>\n      <th>12</th>\n      <td>Khimki Moscow Region</td>\n      <td>2345</td>\n      <td>2455</td>\n      <td>9</td>\n      <td>30</td>\n      <td>2018/19</td>\n      <td>0.300000</td>\n      <td>0.477095</td>\n      <td>0.477095</td>\n    </tr>\n    <tr>\n      <th>13</th>\n      <td>Herbalife Gran Canaria</td>\n      <td>2332</td>\n      <td>2633</td>\n      <td>8</td>\n      <td>30</td>\n      <td>2018/19</td>\n      <td>0.266667</td>\n      <td>0.439598</td>\n      <td>0.439598</td>\n    </tr>\n    <tr>\n      <th>14</th>\n      <td>Buducnost VOLI Podgorica</td>\n      <td>2230</td>\n      <td>2550</td>\n      <td>6</td>\n      <td>30</td>\n      <td>2018/19</td>\n      <td>0.200000</td>\n      <td>0.433353</td>\n      <td>0.433353</td>\n    </tr>\n    <tr>\n      <th>15</th>\n      <td>Darussafaka Tekfen Istanbul</td>\n      <td>2238</td>\n      <td>2576</td>\n      <td>5</td>\n      <td>30</td>\n      <td>2018/19</td>\n      <td>0.166667</td>\n      <td>0.430133</td>\n      <td>0.430133</td>\n    </tr>\n  </tbody>\n</table>\n</div>"
     },
     "execution_count": 110,
     "metadata": {},
     "output_type": "execute_result"
    }
   ],
   "source": [
    "table_concat"
   ],
   "metadata": {
    "collapsed": false,
    "pycharm": {
     "name": "#%%\n"
    }
   }
  },
  {
   "cell_type": "code",
   "execution_count": 111,
   "outputs": [],
   "source": [
    "from scipy.optimize import fmin_l_bfgs_b"
   ],
   "metadata": {
    "collapsed": false,
    "pycharm": {
     "name": "#%%\n"
    }
   }
  },
  {
   "cell_type": "code",
   "execution_count": 112,
   "outputs": [],
   "source": [
    "def pyth_fun(x, t):\n",
    "    x = x[0]\n",
    "    return np.sum((t[\"W_ratio\"] - t[\"Score\"] ** x / (t[\"Score\"] ** x + t[\"Opponent_Score\"] ** x)) ** 2)"
   ],
   "metadata": {
    "collapsed": false,
    "pycharm": {
     "name": "#%%\n"
    }
   }
  },
  {
   "cell_type": "code",
   "execution_count": 129,
   "outputs": [],
   "source": [
    "res = []\n",
    "for x_ in np.arange(-15, 15, 0.1):\n",
    "    res.append(pyth_fun([x_], table_2020_2021))"
   ],
   "metadata": {
    "collapsed": false,
    "pycharm": {
     "name": "#%%\n"
    }
   }
  },
  {
   "cell_type": "code",
   "execution_count": 130,
   "outputs": [
    {
     "data": {
      "text/plain": "'2.0999999999999375 at 0.4635409933171141'"
     },
     "execution_count": 130,
     "metadata": {},
     "output_type": "execute_result"
    },
    {
     "data": {
      "text/plain": "<Figure size 432x288 with 1 Axes>",
      "image/png": "[encoded data removed]"
     },
     "metadata": {
      "needs_background": "light"
     },
     "output_type": "display_data"
    }
   ],
   "source": [
    "plt.plot(np.arange(-15, 15, 0.1), res)\n",
    "f\"{np.arange(-15, 15, 0.1)[np.argmin(res)]} at {min(res)}\""
   ],
   "metadata": {
    "collapsed": false,
    "pycharm": {
     "name": "#%%\n"
    }
   }
  },
  {
   "cell_type": "code",
   "execution_count": 131,
   "outputs": [],
   "source": [
    "x_, f, d = fmin_l_bfgs_b(func=pyth_fun, args=(table_2020_2021,), x0=np.array([2]), approx_grad=True)"
   ],
   "metadata": {
    "collapsed": false,
    "pycharm": {
     "name": "#%%\n"
    }
   }
  },
  {
   "cell_type": "code",
   "execution_count": 132,
   "outputs": [
    {
     "data": {
      "text/plain": "array([2.13204487])"
     },
     "execution_count": 132,
     "metadata": {},
     "output_type": "execute_result"
    }
   ],
   "source": [
    "x_"
   ],
   "metadata": {
    "collapsed": false,
    "pycharm": {
     "name": "#%%\n"
    }
   }
  },
  {
   "cell_type": "code",
   "execution_count": 15,
   "outputs": [],
   "source": [
    "table_2018_2019 = output_table(games, season=\"2018/19\")"
   ],
   "metadata": {
    "collapsed": false,
    "pycharm": {
     "name": "#%%\n"
    }
   }
  },
  {
   "cell_type": "code",
   "execution_count": 28,
   "outputs": [],
   "source": [
    "x_, f, d = fmin_l_bfgs_b(func=pyth_fun, args=(table_2018_2019,), x0=np.array([2]), approx_grad=True)"
   ],
   "metadata": {
    "collapsed": false,
    "pycharm": {
     "name": "#%%\n"
    }
   }
  },
  {
   "cell_type": "code",
   "execution_count": 29,
   "outputs": [
    {
     "data": {
      "text/plain": "array([8.4385313])"
     },
     "execution_count": 29,
     "metadata": {},
     "output_type": "execute_result"
    }
   ],
   "source": [
    "x_"
   ],
   "metadata": {
    "collapsed": false,
    "pycharm": {
     "name": "#%%\n"
    }
   }
  },
  {
   "cell_type": "code",
   "execution_count": 141,
   "outputs": [],
   "source": [
    "table_2016_2017_half = output_table(games, season=\"2016/17\", round_=15)"
   ],
   "metadata": {
    "collapsed": false,
    "pycharm": {
     "name": "#%%\n"
    }
   }
  },
  {
   "cell_type": "code",
   "execution_count": 142,
   "outputs": [
    {
     "data": {
      "text/plain": "                               Team  Score  Opponent_Score  Win  count  \\\n0                       CSKA Moscow   1330            1231   12     15   \n1          Baskonia Vitoria Gasteiz   1204            1157   10     15   \n2                Olympiacos Piraeus   1179            1113   10     15   \n3                       Real Madrid   1304            1204   10     15   \n4               Fenerbahce Istanbul   1150            1148    9     15   \n5   Panathinaikos Superfoods Athens   1187            1134    9     15   \n6        Darussafaka Dogus Istanbul   1171            1173    8     15   \n7             Anadolu Efes Istanbul   1264            1277    7     15   \n8        Crvena Zvezda mts Belgrade   1115            1117    7     15   \n9                FC Barcelona Lassa   1082            1118    7     15   \n10                    Brose Bamberg   1220            1216    6     15   \n11                      Unics Kazan   1203            1232    6     15   \n12                  Zalgiris Kaunas   1217            1235    6     15   \n13             Maccabi FOX Tel Aviv   1202            1260    5     15   \n14         EA7 Emporio Armani Milan   1226            1320    4     15   \n15    Galatasaray Odeabank Istanbul   1168            1287    4     15   \n\n     Season   W_ratio  pyth_classic   pyth_el  \n0   2016/17  0.800000      0.538599  0.538599  \n1   2016/17  0.666667      0.519899  0.519899  \n2   2016/17  0.666667      0.528772  0.528772  \n3   2016/17  0.666667      0.539809  0.539809  \n4   2016/17  0.600000      0.500870  0.500870  \n5   2016/17  0.600000      0.522823  0.522823  \n6   2016/17  0.533333      0.499147  0.499147  \n7   2016/17  0.466667      0.494884  0.494884  \n8   2016/17  0.466667      0.499104  0.499104  \n9   2016/17  0.466667      0.483641  0.483641  \n10  2016/17  0.400000      0.501642  0.501642  \n11  2016/17  0.400000      0.488092  0.488092  \n12  2016/17  0.400000      0.492659  0.492659  \n13  2016/17  0.333333      0.476455  0.476455  \n14  2016/17  0.266667      0.463130  0.463130  \n15  2016/17  0.266667      0.451641  0.451641  ",
      "text/html": "<div>\n<style scoped>\n    .dataframe tbody tr th:only-of-type {\n        vertical-align: middle;\n    }\n\n    .dataframe tbody tr th {\n        vertical-align: top;\n    }\n\n    .dataframe thead th {\n        text-align: right;\n    }\n</style>\n<table border=\"1\" class=\"dataframe\">\n  <thead>\n    <tr style=\"text-align: right;\">\n      <th></th>\n      <th>Team</th>\n      <th>Score</th>\n      <th>Opponent_Score</th>\n      <th>Win</th>\n      <th>count</th>\n      <th>Season</th>\n      <th>W_ratio</th>\n      <th>pyth_classic</th>\n      <th>pyth_el</th>\n    </tr>\n  </thead>\n  <tbody>\n    <tr>\n      <th>0</th>\n      <td>CSKA Moscow</td>\n      <td>1330</td>\n      <td>1231</td>\n      <td>12</td>\n      <td>15</td>\n      <td>2016/17</td>\n      <td>0.800000</td>\n      <td>0.538599</td>\n      <td>0.538599</td>\n    </tr>\n    <tr>\n      <th>1</th>\n      <td>Baskonia Vitoria Gasteiz</td>\n      <td>1204</td>\n      <td>1157</td>\n      <td>10</td>\n      <td>15</td>\n      <td>2016/17</td>\n      <td>0.666667</td>\n      <td>0.519899</td>\n      <td>0.519899</td>\n    </tr>\n    <tr>\n      <th>2</th>\n      <td>Olympiacos Piraeus</td>\n      <td>1179</td>\n      <td>1113</td>\n      <td>10</td>\n      <td>15</td>\n      <td>2016/17</td>\n      <td>0.666667</td>\n      <td>0.528772</td>\n      <td>0.528772</td>\n    </tr>\n    <tr>\n      <th>3</th>\n      <td>Real Madrid</td>\n      <td>1304</td>\n      <td>1204</td>\n      <td>10</td>\n      <td>15</td>\n      <td>2016/17</td>\n      <td>0.666667</td>\n      <td>0.539809</td>\n      <td>0.539809</td>\n    </tr>\n    <tr>\n      <th>4</th>\n      <td>Fenerbahce Istanbul</td>\n      <td>1150</td>\n      <td>1148</td>\n      <td>9</td>\n      <td>15</td>\n      <td>2016/17</td>\n      <td>0.600000</td>\n      <td>0.500870</td>\n      <td>0.500870</td>\n    </tr>\n    <tr>\n      <th>5</th>\n      <td>Panathinaikos Superfoods Athens</td>\n      <td>1187</td>\n      <td>1134</td>\n      <td>9</td>\n      <td>15</td>\n      <td>2016/17</td>\n      <td>0.600000</td>\n      <td>0.522823</td>\n      <td>0.522823</td>\n    </tr>\n    <tr>\n      <th>6</th>\n      <td>Darussafaka Dogus Istanbul</td>\n      <td>1171</td>\n      <td>1173</td>\n      <td>8</td>\n      <td>15</td>\n      <td>2016/17</td>\n      <td>0.533333</td>\n      <td>0.499147</td>\n      <td>0.499147</td>\n    </tr>\n    <tr>\n      <th>7</th>\n      <td>Anadolu Efes Istanbul</td>\n      <td>1264</td>\n      <td>1277</td>\n      <td>7</td>\n      <td>15</td>\n      <td>2016/17</td>\n      <td>0.466667</td>\n      <td>0.494884</td>\n      <td>0.494884</td>\n    </tr>\n    <tr>\n      <th>8</th>\n      <td>Crvena Zvezda mts Belgrade</td>\n      <td>1115</td>\n      <td>1117</td>\n      <td>7</td>\n      <td>15</td>\n      <td>2016/17</td>\n      <td>0.466667</td>\n      <td>0.499104</td>\n      <td>0.499104</td>\n    </tr>\n    <tr>\n      <th>9</th>\n      <td>FC Barcelona Lassa</td>\n      <td>1082</td>\n      <td>1118</td>\n      <td>7</td>\n      <td>15</td>\n      <td>2016/17</td>\n      <td>0.466667</td>\n      <td>0.483641</td>\n      <td>0.483641</td>\n    </tr>\n    <tr>\n      <th>10</th>\n      <td>Brose Bamberg</td>\n      <td>1220</td>\n      <td>1216</td>\n      <td>6</td>\n      <td>15</td>\n      <td>2016/17</td>\n      <td>0.400000</td>\n      <td>0.501642</td>\n      <td>0.501642</td>\n    </tr>\n    <tr>\n      <th>11</th>\n      <td>Unics Kazan</td>\n      <td>1203</td>\n      <td>1232</td>\n      <td>6</td>\n      <td>15</td>\n      <td>2016/17</td>\n      <td>0.400000</td>\n      <td>0.488092</td>\n      <td>0.488092</td>\n    </tr>\n    <tr>\n      <th>12</th>\n      <td>Zalgiris Kaunas</td>\n      <td>1217</td>\n      <td>1235</td>\n      <td>6</td>\n      <td>15</td>\n      <td>2016/17</td>\n      <td>0.400000</td>\n      <td>0.492659</td>\n      <td>0.492659</td>\n    </tr>\n    <tr>\n      <th>13</th>\n      <td>Maccabi FOX Tel Aviv</td>\n      <td>1202</td>\n      <td>1260</td>\n      <td>5</td>\n      <td>15</td>\n      <td>2016/17</td>\n      <td>0.333333</td>\n      <td>0.476455</td>\n      <td>0.476455</td>\n    </tr>\n    <tr>\n      <th>14</th>\n      <td>EA7 Emporio Armani Milan</td>\n      <td>1226</td>\n      <td>1320</td>\n      <td>4</td>\n      <td>15</td>\n      <td>2016/17</td>\n      <td>0.266667</td>\n      <td>0.463130</td>\n      <td>0.463130</td>\n    </tr>\n    <tr>\n      <th>15</th>\n      <td>Galatasaray Odeabank Istanbul</td>\n      <td>1168</td>\n      <td>1287</td>\n      <td>4</td>\n      <td>15</td>\n      <td>2016/17</td>\n      <td>0.266667</td>\n      <td>0.451641</td>\n      <td>0.451641</td>\n    </tr>\n  </tbody>\n</table>\n</div>"
     },
     "execution_count": 142,
     "metadata": {},
     "output_type": "execute_result"
    }
   ],
   "source": [
    "table_2016_2017_half"
   ],
   "metadata": {
    "collapsed": false,
    "pycharm": {
     "name": "#%%\n"
    }
   }
  },
  {
   "cell_type": "code",
   "execution_count": 143,
   "outputs": [
    {
     "data": {
      "text/plain": "                               Team  Score  Opponent_Score  Win  count  \\\n0                       Real Madrid   2585            2353   23     30   \n1                       CSKA Moscow   2619            2387   22     30   \n2                Olympiacos Piraeus   2338            2227   19     30   \n3   Panathinaikos Superfoods Athens   2326            2234   19     30   \n4               Fenerbahce Istanbul   2286            2244   18     30   \n5             Anadolu Efes Istanbul   2521            2512   17     30   \n6          Baskonia Vitoria Gasteiz   2445            2376   17     30   \n7        Crvena Zvezda mts Belgrade   2209            2204   16     30   \n8        Darussafaka Dogus Istanbul   2373            2366   16     30   \n9                   Zalgiris Kaunas   2350            2391   14     30   \n10               FC Barcelona Lassa   2141            2242   12     30   \n11    Galatasaray Odeabank Istanbul   2345            2475   11     30   \n12                    Brose Bamberg   2397            2430   10     30   \n13             Maccabi FOX Tel Aviv   2341            2509   10     30   \n14         EA7 Emporio Armani Milan   2422            2621    8     30   \n15                      Unics Kazan   2298            2425    8     30   \n\n     Season   W_ratio  pyth_classic   pyth_el  \n0   2016/17  0.766667      0.546879  0.546879  \n1   2016/17  0.733333      0.546245  0.546245  \n2   2016/17  0.633333      0.524301  0.524301  \n3   2016/17  0.633333      0.520167  0.520167  \n4   2016/17  0.600000      0.509271  0.509271  \n5   2016/17  0.566667      0.501788  0.501788  \n6   2016/17  0.566667      0.514309  0.514309  \n7   2016/17  0.533333      0.501133  0.501133  \n8   2016/17  0.533333      0.501477  0.501477  \n9   2016/17  0.466667      0.491353  0.491353  \n10  2016/17  0.400000      0.476969  0.476969  \n11  2016/17  0.366667      0.473049  0.473049  \n12  2016/17  0.333333      0.493164  0.493164  \n13  2016/17  0.333333      0.465402  0.465402  \n14  2016/17  0.266667      0.460601  0.460601  \n15  2016/17  0.266667      0.473130  0.473130  ",
      "text/html": "<div>\n<style scoped>\n    .dataframe tbody tr th:only-of-type {\n        vertical-align: middle;\n    }\n\n    .dataframe tbody tr th {\n        vertical-align: top;\n    }\n\n    .dataframe thead th {\n        text-align: right;\n    }\n</style>\n<table border=\"1\" class=\"dataframe\">\n  <thead>\n    <tr style=\"text-align: right;\">\n      <th></th>\n      <th>Team</th>\n      <th>Score</th>\n      <th>Opponent_Score</th>\n      <th>Win</th>\n      <th>count</th>\n      <th>Season</th>\n      <th>W_ratio</th>\n      <th>pyth_classic</th>\n      <th>pyth_el</th>\n    </tr>\n  </thead>\n  <tbody>\n    <tr>\n      <th>0</th>\n      <td>Real Madrid</td>\n      <td>2585</td>\n      <td>2353</td>\n      <td>23</td>\n      <td>30</td>\n      <td>2016/17</td>\n      <td>0.766667</td>\n      <td>0.546879</td>\n      <td>0.546879</td>\n    </tr>\n    <tr>\n      <th>1</th>\n      <td>CSKA Moscow</td>\n      <td>2619</td>\n      <td>2387</td>\n      <td>22</td>\n      <td>30</td>\n      <td>2016/17</td>\n      <td>0.733333</td>\n      <td>0.546245</td>\n      <td>0.546245</td>\n    </tr>\n    <tr>\n      <th>2</th>\n      <td>Olympiacos Piraeus</td>\n      <td>2338</td>\n      <td>2227</td>\n      <td>19</td>\n      <td>30</td>\n      <td>2016/17</td>\n      <td>0.633333</td>\n      <td>0.524301</td>\n      <td>0.524301</td>\n    </tr>\n    <tr>\n      <th>3</th>\n      <td>Panathinaikos Superfoods Athens</td>\n      <td>2326</td>\n      <td>2234</td>\n      <td>19</td>\n      <td>30</td>\n      <td>2016/17</td>\n      <td>0.633333</td>\n      <td>0.520167</td>\n      <td>0.520167</td>\n    </tr>\n    <tr>\n      <th>4</th>\n      <td>Fenerbahce Istanbul</td>\n      <td>2286</td>\n      <td>2244</td>\n      <td>18</td>\n      <td>30</td>\n      <td>2016/17</td>\n      <td>0.600000</td>\n      <td>0.509271</td>\n      <td>0.509271</td>\n    </tr>\n    <tr>\n      <th>5</th>\n      <td>Anadolu Efes Istanbul</td>\n      <td>2521</td>\n      <td>2512</td>\n      <td>17</td>\n      <td>30</td>\n      <td>2016/17</td>\n      <td>0.566667</td>\n      <td>0.501788</td>\n      <td>0.501788</td>\n    </tr>\n    <tr>\n      <th>6</th>\n      <td>Baskonia Vitoria Gasteiz</td>\n      <td>2445</td>\n      <td>2376</td>\n      <td>17</td>\n      <td>30</td>\n      <td>2016/17</td>\n      <td>0.566667</td>\n      <td>0.514309</td>\n      <td>0.514309</td>\n    </tr>\n    <tr>\n      <th>7</th>\n      <td>Crvena Zvezda mts Belgrade</td>\n      <td>2209</td>\n      <td>2204</td>\n      <td>16</td>\n      <td>30</td>\n      <td>2016/17</td>\n      <td>0.533333</td>\n      <td>0.501133</td>\n      <td>0.501133</td>\n    </tr>\n    <tr>\n      <th>8</th>\n      <td>Darussafaka Dogus Istanbul</td>\n      <td>2373</td>\n      <td>2366</td>\n      <td>16</td>\n      <td>30</td>\n      <td>2016/17</td>\n      <td>0.533333</td>\n      <td>0.501477</td>\n      <td>0.501477</td>\n    </tr>\n    <tr>\n      <th>9</th>\n      <td>Zalgiris Kaunas</td>\n      <td>2350</td>\n      <td>2391</td>\n      <td>14</td>\n      <td>30</td>\n      <td>2016/17</td>\n      <td>0.466667</td>\n      <td>0.491353</td>\n      <td>0.491353</td>\n    </tr>\n    <tr>\n      <th>10</th>\n      <td>FC Barcelona Lassa</td>\n      <td>2141</td>\n      <td>2242</td>\n      <td>12</td>\n      <td>30</td>\n      <td>2016/17</td>\n      <td>0.400000</td>\n      <td>0.476969</td>\n      <td>0.476969</td>\n    </tr>\n    <tr>\n      <th>11</th>\n      <td>Galatasaray Odeabank Istanbul</td>\n      <td>2345</td>\n      <td>2475</td>\n      <td>11</td>\n      <td>30</td>\n      <td>2016/17</td>\n      <td>0.366667</td>\n      <td>0.473049</td>\n      <td>0.473049</td>\n    </tr>\n    <tr>\n      <th>12</th>\n      <td>Brose Bamberg</td>\n      <td>2397</td>\n      <td>2430</td>\n      <td>10</td>\n      <td>30</td>\n      <td>2016/17</td>\n      <td>0.333333</td>\n      <td>0.493164</td>\n      <td>0.493164</td>\n    </tr>\n    <tr>\n      <th>13</th>\n      <td>Maccabi FOX Tel Aviv</td>\n      <td>2341</td>\n      <td>2509</td>\n      <td>10</td>\n      <td>30</td>\n      <td>2016/17</td>\n      <td>0.333333</td>\n      <td>0.465402</td>\n      <td>0.465402</td>\n    </tr>\n    <tr>\n      <th>14</th>\n      <td>EA7 Emporio Armani Milan</td>\n      <td>2422</td>\n      <td>2621</td>\n      <td>8</td>\n      <td>30</td>\n      <td>2016/17</td>\n      <td>0.266667</td>\n      <td>0.460601</td>\n      <td>0.460601</td>\n    </tr>\n    <tr>\n      <th>15</th>\n      <td>Unics Kazan</td>\n      <td>2298</td>\n      <td>2425</td>\n      <td>8</td>\n      <td>30</td>\n      <td>2016/17</td>\n      <td>0.266667</td>\n      <td>0.473130</td>\n      <td>0.473130</td>\n    </tr>\n  </tbody>\n</table>\n</div>"
     },
     "execution_count": 143,
     "metadata": {},
     "output_type": "execute_result"
    }
   ],
   "source": [
    "table_2016_2017"
   ],
   "metadata": {
    "collapsed": false,
    "pycharm": {
     "name": "#%%\n"
    }
   }
  },
  {
   "cell_type": "code",
   "execution_count": null,
   "outputs": [],
   "source": [],
   "metadata": {
    "collapsed": false,
    "pycharm": {
     "name": "#%%\n"
    }
   }
  }
 ],
 "metadata": {
  "kernelspec": {
   "display_name": "Python 3",
   "language": "python",
   "name": "python3"
  },
  "language_info": {
   "codemirror_mode": {
    "name": "ipython",
    "version": 2
   },
   "file_extension": ".py",
   "mimetype": "text/x-python",
   "name": "python",
   "nbconvert_exporter": "python",
   "pygments_lexer": "ipython2",
   "version": "2.7.6"
  }
 },
 "nbformat": 4,
 "nbformat_minor": 0
}